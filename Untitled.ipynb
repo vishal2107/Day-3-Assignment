{
 "cells": [
  {
   "cell_type": "code",
   "execution_count": 29,
   "metadata": {},
   "outputs": [
    {
     "data": {
      "text/plain": [
       "array([ 2,  5,  8, 11, 14, 17, 20, 23, 26, 29, 32, 35, 38, 41, 44, 47])"
      ]
     },
     "execution_count": 29,
     "metadata": {},
     "output_type": "execute_result"
    }
   ],
   "source": [
    "#QUESION 1\n",
    "import numpy as np\n",
    "np.arange(2,50,3)"
   ]
  },
  {
   "cell_type": "code",
   "execution_count": 74,
   "metadata": {},
   "outputs": [
    {
     "name": "stdout",
     "output_type": "stream",
     "text": [
      "22\n",
      "11\n",
      "33\n",
      "44\n",
      "55\n",
      "1\n",
      "3\n",
      "4\n",
      "7\n",
      "32\n",
      "[22, 33, 55, 3, 7]\n",
      "[11, 44, 1, 4, 32]\n",
      "[ 1  3  4  7 11 22 32 33 44 55]\n"
     ]
    }
   ],
   "source": [
    "#QUESTION 2\n",
    "l1=[]\n",
    "l2=[]\n",
    "for i in range(0,5):\n",
    "    a=int(input())\n",
    "    b=int(input())\n",
    "    l1.append(a)\n",
    "    l2.append(b)\n",
    "print(l1)\n",
    "print(l2)\n",
    "c=np.array(l1)\n",
    "d=np.array(l2)\n",
    "e=print(sort(np.concatenate((c,d))))\n",
    "#e=print(np.concatenate((c,d)))\n",
    "#f=print(np.sort((e)))\n",
    "\n",
    "    "
   ]
  },
  {
   "cell_type": "code",
   "execution_count": 57,
   "metadata": {},
   "outputs": [
    {
     "name": "stdout",
     "output_type": "stream",
     "text": [
      "[[1 2 3]\n",
      " [4 5 6]\n",
      " [7 8 9]]\n",
      "(3, 3)\n",
      "9\n"
     ]
    }
   ],
   "source": [
    "#QUESTION 3\n",
    "arr=np.array([[1,2,3],[4,5,6],[7,8,9]])\n",
    "print(arr)\n",
    "print(arr.shape)\n",
    "print(arr.size)\n",
    "\n"
   ]
  },
  {
   "cell_type": "code",
   "execution_count": 60,
   "metadata": {},
   "outputs": [
    {
     "name": "stdout",
     "output_type": "stream",
     "text": [
      "[[0 1 2 3 4]\n",
      " [5 6 7 8 9]]\n"
     ]
    }
   ],
   "source": [
    "#QUESTION 4\n",
    "arr=np.array([0,1,2,3,4,5,6,7,8,9])\n",
    "print(np.reshape(arr,(2,5)))"
   ]
  },
  {
   "cell_type": "code",
   "execution_count": 61,
   "metadata": {},
   "outputs": [
    {
     "name": "stdout",
     "output_type": "stream",
     "text": [
      "[[1 2]\n",
      " [3 4]]\n",
      "[[5 6]\n",
      " [7 8]]\n",
      "[[1 2 5 6]\n",
      " [3 4 7 8]]\n",
      "[[1 2]\n",
      " [3 4]\n",
      " [5 6]\n",
      " [7 8]]\n"
     ]
    }
   ],
   "source": [
    "#QUESTION 5\n",
    "arr1=np.array([[1,2],[3,4]])\n",
    "arr2=np.array([[5,6],[7,8]])\n",
    "print(arr1)\n",
    "print(arr2)\n",
    "print(np.hstack((arr1,arr2)))\n",
    "print(np.vstack((arr1,arr2)))"
   ]
  },
  {
   "cell_type": "code",
   "execution_count": 72,
   "metadata": {},
   "outputs": [
    {
     "name": "stdout",
     "output_type": "stream",
     "text": [
      "6\n"
     ]
    }
   ],
   "source": [
    "#QUESTION 6\n",
    "a=[1,2,3,1,2,6,4,3,4,1,5]\n",
    "b=print(len(set(a)))"
   ]
  },
  {
   "cell_type": "code",
   "execution_count": null,
   "metadata": {},
   "outputs": [],
   "source": []
  }
 ],
 "metadata": {
  "kernelspec": {
   "display_name": "Python 3",
   "language": "python",
   "name": "python3"
  },
  "language_info": {
   "codemirror_mode": {
    "name": "ipython",
    "version": 3
   },
   "file_extension": ".py",
   "mimetype": "text/x-python",
   "name": "python",
   "nbconvert_exporter": "python",
   "pygments_lexer": "ipython3",
   "version": "3.8.3"
  }
 },
 "nbformat": 4,
 "nbformat_minor": 4
}
